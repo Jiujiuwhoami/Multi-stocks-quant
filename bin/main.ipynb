{
 "cells": [
  {
   "cell_type": "markdown",
   "metadata": {},
   "source": []
  },
  {
   "cell_type": "code",
   "execution_count": null,
   "metadata": {
    "collapsed": true
   },
   "outputs": [],
   "source": []
  },
  {
   "cell_type": "raw",
   "metadata": {},
   "source": [
    "# shift+Table 用来查看函数用法\n",
    "# data_df = []\n",
    "# with open('D:/Program Files/通达信/T0002/export/SZ#002221.txt','r') as f:\n",
    "#     while True:\n",
    "#         read_fline = f.readline()            # 按行读取\n",
    "#         if not read_fline:\n",
    "#             break\n",
    "#         line = read_fline.strip()            # 去除空格和换行符\n",
    "#         if not line:\n",
    "#             continue\n",
    "#         data_df.append(line.split('\\t'))     # 按照“\\t”分割字符串，并且放入data中\n",
    "# data_df      =  pd.DataFrame(data_df)\n",
    "# stock_info   =  np.array(data_df.iloc[0])    # 取 dataframe 的第一行元素\n",
    "# stock_info   =  stock_info[0].split()        # .split() 将字符串转化为列表\n",
    "# stock_data   =  data_df.iloc[1:-1]           # 从dataframe取出真实价量数据\n",
    "# stock_data   =  stock_data.iloc[::-1]        # dataframe 逆序排列\n",
    "# stock_data   =  stock_data.drop([1],axis=0)  # 删除第一行文字索引\n",
    "# stock_data.index    =  np.arange(stock_data.shape[0])                     # 索引命名\n",
    "# stock_data.columns  =  ['Date','Open','High','Low','Close','Vol','Vocc']  # 索引命名"
   ]
  },
  {
   "cell_type": "markdown",
   "metadata": {},
   "source": []
  },
  {
   "cell_type": "code",
   "execution_count": 1,
   "metadata": {
    "collapsed": true,
    "scrolled": true
   },
   "outputs": [],
   "source": [
    "import numpy as np\n",
    "import pandas as pd\n",
    "import math\n",
    "import matplotlib.pyplot as plt\n",
    "import os\n",
    "%matplotlib notebook  \n",
    "%matplotlib inline  \n",
    "#####################全局变量\n",
    "All_stock_dict = {'Code':[],'Name':[],'Frequency':[],'DataDf':[]} # 储存所有股票的详细数据，StockData类中调用\n",
    "stock_problem_data = {'Code':[],'Name':[]}\n",
    "#####################\n",
    "#####################\n",
    "stock_num = 100           # 买入评分最高的前 stock_num 只股票\n",
    "momentum_day = 29       # 最新动量参考最近 momentum_day 的\n",
    "N = 18 # 计算最新斜率 slope，拟合度 r2 参考最近 N 天\n",
    "M = 600 # 计算最新标准分 zscore，rsrs_score 参考最近 M 天\n",
    "mean_day      = 20 # 计算结束 ma 收盘价，参考最近 mean_day\n",
    "mean_diff_day = 3 # 计算初始 ma 收盘价，参考(mean_day + mean_diff_day)天前，窗口为 mean_diff_day 的一段时间\n",
    "score_threshold = 0.7\n",
    "#####################"
   ]
  },
  {
   "cell_type": "code",
   "execution_count": 2,
   "metadata": {
    "collapsed": true
   },
   "outputs": [],
   "source": [
    "# 此类用于处理从本地获得的单支股票数据，并放入全局变量All_stock_dict字典中，后面每调用一次类中的data_store函数，就存储相应股票信息\n",
    "class StockData():   \n",
    "    def __init__(self,url):\n",
    "        self.data_df    = []\n",
    "        self.url        = url\n",
    "        self.f          = None\n",
    "        self.read_line  = None\n",
    "        self.line       = None\n",
    "        self.stock_info = None\n",
    "        self.stock_data = None\n",
    "        self.stock_dict = {}\n",
    "    def data_clean(self):\n",
    "        try:\n",
    "            with open(self.url,'r') as self.f:\n",
    "                while True:\n",
    "                    self.read_fline = self.f.readline()            # 按行读取\n",
    "                    if not self.read_fline:\n",
    "                        break\n",
    "                    self.line = self.read_fline.strip()            # 去除空格和换行符\n",
    "                    if not self.line:\n",
    "                        continue\n",
    "                    self.data_df.append(self.line.split('\\t'))     # 按照“\\t”分割字符串，并且放入data中    \n",
    "        except:\n",
    "            print('The data_clean fuction in StockData Class executes error') \n",
    "        self.data_df             =  pd.DataFrame(self.data_df)  \n",
    "        self.stock_info          =  np.array(self.data_df.iloc[0])    # 取 dataframe 的第一行元素\n",
    "        self.stock_info          =  self.stock_info[0].split()        # .split() 将字符串转化为列表\n",
    "        self.stock_data          =  self.data_df.iloc[1:-1]           # 从dataframe取出真实价量数据\n",
    "        self.stock_data          =  self.stock_data.iloc[::-1]        # dataframe 逆序排列。所得结果：最新数据行索引为【0】\n",
    "        self.stock_data          =  self.stock_data.drop([1],axis=0)  # 删除第一行文字索引\n",
    "        self.stock_data.index    =  np.arange(self.stock_data.shape[0])                     # 行索引命名\n",
    "        self.stock_data.columns  =  ['Date','Open','High','Low','Close','Vol','Vocc']       # 列索引命名\n",
    "#         self.stock_dict['Code']       =  self.stock_info[0]\n",
    "#         self.stock_dict['Name']       =  self.stock_info[1]\n",
    "#         self.stock_dict['Frequency']  =  self.stock_info[2]\n",
    "#         self.stock_dict['Data']       =  self.stock_data\n",
    "#         return self.stock_dict\n",
    "        \n",
    "    def data_store(self):\n",
    "        dict={}\n",
    "        self.data_clean()\n",
    "        if not np.any(self.stock_data.isnull()) and len(self.stock_data) >= M:\n",
    "            All_stock_dict['Code'].append(self.stock_info[0])           # 将本支股票的代码放入全局变量中\n",
    "            All_stock_dict['Name'].append(self.stock_info[1])           # 将本支股票的名字放入全局变量中\n",
    "            All_stock_dict['Frequency'].append(self.stock_info[-2])      # 将本支股票的看盘周期放入全局变量中\n",
    "    #        All_stock_dict['DataDf'].append(self.stock_data)           # 将本支股票的历史数据放入全局变量中\n",
    "            dict['Date']  =  np.array(self.stock_data['Date'])          # 将本支股票的历史数据放入全局变量中\n",
    "            dict['Open']  =  np.array(self.stock_data['Open']).astype(float)          # 将本支股票的历史数据放入全局变量中\n",
    "            dict['High']  =  np.array(self.stock_data['High']).astype(float)          # 将本支股票的历史数据放入全局变量中\n",
    "            dict['Low']   =  np.array(self.stock_data['Low']).astype(float)           # 将本支股票的历史数据放入全局变量中\n",
    "            dict['Close'] =  np.array(self.stock_data['Close']).astype(float)         # 将本支股票的历史数据放入全局变量中\n",
    "            dict['Vol']   =  np.array(self.stock_data['Vol']).astype(float)           # 将本支股票的历史数据放入全局变量中\n",
    "            dict['Vocc']  =  np.array(self.stock_data['Vocc']).astype(float)          # 将本支股票的历史数据放入全局变量中\n",
    "            All_stock_dict['DataDf'].append(dict)\n",
    "        else:\n",
    "            stock_problem_data['Code'].append(self.stock_info[0])\n",
    "            stock_problem_data['Name'].append(self.stock_info[1])\n",
    "    # 根据函数参数选择指定数据长度的股票\n",
    "#     def get_priceDict(self,stockCode,count,frequency,fields=['Data','Open','High','Low','Close','Vol','Vocc'],endDate=None):\n",
    "#         self.dict={} \n",
    "#         self.stockCode=stockCode\n",
    "#         self.count=count\n",
    "#         self.frequency=frequency\n",
    "#         self.fields=fields\n",
    "#         self.endDate=endDate\n",
    "#         for (self.C,self.N,self.F,self.D) in zip(All_stock_dict['Code'],All_stock_dict['Name'],All_stock_dict['Frequency'],All_stock_dict['DataDf']):\n",
    "#             if self.C == self.stockCode and self.F == self.frequency:\n",
    "#                 df = pd.DataFrame(self.D).iloc[:self.count,]               #  截取请求数量的dataframe的行       \n",
    "#                 for i in range(len(self.fields)):                     # 遍历请求的索引\n",
    "#                     dict[self.fields[i]] = np.array(df[self.fields[i]])    # 将获取的数列赋予字典等待返回\n",
    "#                 break    \n",
    "#         if self.dict == {}:\n",
    "#             print(\"The get_priceList function of value is error\")\n",
    "#         else:\n",
    "#             return self.dict"
   ]
  },
  {
   "cell_type": "code",
   "execution_count": 3,
   "metadata": {
    "collapsed": true
   },
   "outputs": [],
   "source": [
    "# 根据函数参数选择指定数据长度的股票\n",
    "def get_priceDict(stockCode,count,frequency,fields=['Date','Open','High','Low','Close','Vol','Vocc'],endDate=None):\n",
    "    dict={} \n",
    "    for (C,N,F,D) in zip(All_stock_dict['Code'],All_stock_dict['Name'],All_stock_dict['Frequency'],All_stock_dict['DataDf']):\n",
    "        if C == stockCode and F == frequency:\n",
    "            df = pd.DataFrame(D).iloc[:count,]               #  截取请求数量的dataframe的行       \n",
    "            for i in range(len(fields)):                     # 遍历请求的索引\n",
    "                dict[fields[i]] = np.array(df[fields[i]])    # 将获取的数列赋予字典等待返回\n",
    "            break    \n",
    "    if dict == {}:\n",
    "        print('The get_priceList function of value is error{}'.format(stockCode))\n",
    "    else:\n",
    "        return dict\n",
    "def get_stockName(stockCode): # 根据 股票代码 寻 股票名称\n",
    "    a = None\n",
    "    for (C,N) in zip(All_stock_dict['Code'],All_stock_dict['Name']):\n",
    "        if C == stockCode:\n",
    "            a = N\n",
    "            break\n",
    "    if a == None:\n",
    "        print('Stock Code is error')\n",
    "    else:\n",
    "        return a\n",
    "        "
   ]
  },
  {
   "cell_type": "code",
   "execution_count": 4,
   "metadata": {
    "collapsed": true
   },
   "outputs": [],
   "source": [
    "def get_ols(x, y):    # 对输入的自变量每日最低价 x(series) 和因变量每日最高价 y(series) 建立 OLS 回归模型,返回元组(截距,斜率,拟合度)\n",
    "    slope, intercept = np.polyfit(x, y, 1)\n",
    "    r2 = 1 - (sum((y - (slope * x + intercept))**2) / ((len(y) - 1) * np.var(y, ddof=1)))\n",
    "    return (intercept, slope, r2) \n",
    "def initial_slope_series(ref_stock):\n",
    "    data = get_priceDict(ref_stock,count = N + M,frequency=\"日线\",fields=['High','Low'])\n",
    "     # get_ols()函数返回的是元组(截距,斜率,拟合度)，这里调用后生成序列,索引【1】得到斜率序列\n",
    "     # 采用移动窗口的方法计算前 M 天的回归斜率\n",
    "    return [get_ols(data['Low'][::-1][i:i+N], data['High'][::-1][i:i+N])[1] for i in range(M)]\n",
    "def get_zscore(slope_series):\n",
    "    mean = np.mean(slope_series)\n",
    "    std  = np.std(slope_series)             # 计算标准差\n",
    "    return (slope_series[-1] - mean) / std # 标准分计算公式：Z = （X - Mean）/ 标准差\n",
    "def get_timing_signal(ref_stock):\n",
    "    # 计算 MA 信号，mean_day = 20，mean_diff_day =3\n",
    "    close_data = get_priceDict(ref_stock,count = mean_day + mean_diff_day,frequency=\"日线\",fields = ['Close']) \n",
    "    # 0 0 0 1 1 1 1 1 1 1 1 1 1 1 1 1 1 1 1 1 1 1 1，23 天，要后 20 天\n",
    "    today_MA   = close_data['Close'][::-1][mean_diff_day:].mean() \n",
    "    # 1 1 1 1 1 1 1 1 1 1 1 1 1 1 1 1 1 1 1 1 0 0 0，23 天，要前 20 天\n",
    "    before_MA  = close_data['Close'][::-1][:-mean_diff_day].mean()\n",
    "    # 计算 rsrs 信号，N =18，M = 600\n",
    "    high_low_data      = get_priceDict(ref_stock,count = N,frequency=\"日线\",fields = ['High','Low'])\n",
    "    intercept,slope,r2 = get_ols(high_low_data['Low'][::-1],high_low_data['High'][::-1])\n",
    "    slope_series       = initial_slope_series(ref_stock)\n",
    "    rsrs_score         = get_zscore(slope_series[-M:]) * r2\n",
    "    # 综合判断所有信号\n",
    "    if rsrs_score > score_threshold and today_MA > before_MA:\n",
    "        return \"BUY\"\n",
    "    elif rsrs_score < -score_threshold and today_MA < before_MA:\n",
    "        return \"SELL\"\n",
    "    else:\n",
    "        return \"KEEP\"\n",
    "\n",
    "def get_rank(stock_pool):\n",
    "    score_list = []\n",
    "    stock_pool_select = []\n",
    "    for stock in stock_pool:\n",
    "        data = get_priceDict(stock,count = momentum_day,frequency=\"日线\",fields=['Close']) # momentum_day=29\n",
    "        try:\n",
    "            y = data['log'] = np.log(data['Close'][::-1]) # 求收盘价数组的Log值\n",
    "            # 分析的数据个数（天）\n",
    "            x = data['num'] = np.arange(len(data['log'])) # 生成从0开始排列的，与data【‘log’】数量相同的索引序列\n",
    "            # 拟合 1 次多项式\n",
    "            # y = kx + b, slope 为斜率 k，intercept 为截距 b\n",
    "        except:\n",
    "            print(stock)\n",
    "        try:\n",
    "            slope, intercept = np.polyfit(x, y, 1) # 拟合一次多项式，返回拟合直线的k、b值\n",
    "        except:\n",
    "            print('拟合错误')\n",
    "        # (e ^ slope) ^ 250 - 1 ;annualized_returns 为年度回报率\n",
    "        annualized_returns = math.pow(math.exp(slope), 250) - 1 # pow()方法返回x的y次幂的值\n",
    "        # r_squared 是衡量线性回归效果的评价指标 R^2 =1 - sum（（yi - y）^2）/ sum((ymean - y)^2)\n",
    "        r_squared = 1 - (sum((y - (slope * x + intercept))**2) / ((len(y) - 1) * np.var(y, ddof=1))) # np.var（）求方差\n",
    "        score = annualized_returns * r_squared # 年化回报率*模型评价指标（负无穷--1】\n",
    "        if np.isnan(score):\n",
    "            stock_problem_data['Code'].append(stock)\n",
    "            stock_problem_data['Name'].append(get_stockName(stock))\n",
    "        else:\n",
    "            score_list.append(score) # 评分列表\n",
    "            stock_pool_select.append(stock)\n",
    "    stock_dict = {'stock_pool_select':stock_pool_select, 'score_list':score_list} # 股票池与年化收益评价值绑定生成字典\n",
    "    # 按照字典stock_dict中的score排名进行降序排列。stock_dict.items()为元组构成的列表 reverse = True 为降序排列\n",
    "    sort_Df = pd.DataFrame(stock_dict).sort_values(by='score_list',ascending=False)\n",
    "    print(\"#\" * 30 + \"候选 （打分）\" + \"#\" * 30) # 打印##############################候选##############################\n",
    "    for x in range(len(sort_Df)):\n",
    "        stock_code    = np.array(sort_Df['stock_pool_select'])[x]\n",
    "        stock_score   = np.array(sort_Df['score_list'])[x]\n",
    "        stock_name    = get_stockName(stock_code)\n",
    "        print('{}({}):{}'.format(stock_name,stock_code,stock_score)) # 打印所有股票的名字（股票的代号），打分\n",
    "    print('#' * 73)\n",
    "    code_list = []\n",
    "    for i in range(len(stock_pool_select)):\n",
    "        code_list.append(np.array(sort_Df['stock_pool_select'])[i])\n",
    "    rank_stock = code_list[0:stock_num] # 取出stock_dict降序排序后前stock_num个股票的代号列表\n",
    "    return rank_stock # 返回按照年化收益率排列最优的股票代号列表\n"
   ]
  },
  {
   "cell_type": "code",
   "execution_count": 5,
   "metadata": {
    "collapsed": true
   },
   "outputs": [],
   "source": [
    "\n",
    "# plt.scatter(x,y)  # 绘制散点图\n",
    "# plt.xlabel('x')\n",
    "# plt.ylabel('y')\n",
    "# plt.plot(x,x*slope+intercept)"
   ]
  },
  {
   "cell_type": "code",
   "execution_count": 6,
   "metadata": {},
   "outputs": [
    {
     "ename": "FileNotFoundError",
     "evalue": "[WinError 3] 系统找不到指定的路径。: 'D:/Program Files/通达信/T0002/export/'",
     "output_type": "error",
     "traceback": [
      "\u001b[1;31m---------------------------------------------------------------------------\u001b[0m",
      "\u001b[1;31mFileNotFoundError\u001b[0m                         Traceback (most recent call last)",
      "\u001b[1;32m<ipython-input-6-29ea2af2bd03>\u001b[0m in \u001b[0;36m<module>\u001b[1;34m()\u001b[0m\n\u001b[0;32m      1\u001b[0m \u001b[1;32mif\u001b[0m \u001b[0m__name__\u001b[0m \u001b[1;33m==\u001b[0m \u001b[1;34m\"__main__\"\u001b[0m\u001b[1;33m:\u001b[0m\u001b[1;33m\u001b[0m\u001b[0m\n\u001b[1;32m----> 2\u001b[1;33m     \u001b[0mlist\u001b[0m \u001b[1;33m=\u001b[0m \u001b[0mos\u001b[0m\u001b[1;33m.\u001b[0m\u001b[0mlistdir\u001b[0m\u001b[1;33m(\u001b[0m\u001b[1;34m'D:/Program Files/通达信/T0002/export/'\u001b[0m\u001b[1;33m)\u001b[0m\u001b[1;33m\u001b[0m\u001b[0m\n\u001b[0m\u001b[0;32m      3\u001b[0m     \u001b[1;33m[\u001b[0m\u001b[0mStockData\u001b[0m\u001b[1;33m(\u001b[0m\u001b[0murl\u001b[0m\u001b[1;33m=\u001b[0m\u001b[1;34m'D:/Program Files/通达信/T0002/export/'\u001b[0m \u001b[1;33m+\u001b[0m \u001b[0mi\u001b[0m\u001b[1;33m)\u001b[0m\u001b[1;33m.\u001b[0m\u001b[0mdata_store\u001b[0m\u001b[1;33m(\u001b[0m\u001b[1;33m)\u001b[0m \u001b[1;32mfor\u001b[0m \u001b[0mi\u001b[0m \u001b[1;32min\u001b[0m \u001b[0mlist\u001b[0m\u001b[1;33m]\u001b[0m\u001b[1;33m\u001b[0m\u001b[0m\n\u001b[0;32m      4\u001b[0m     \u001b[0mcheck_out_list\u001b[0m \u001b[1;33m=\u001b[0m \u001b[0mget_rank\u001b[0m\u001b[1;33m(\u001b[0m\u001b[0mAll_stock_dict\u001b[0m\u001b[1;33m[\u001b[0m\u001b[1;34m'Code'\u001b[0m\u001b[1;33m]\u001b[0m\u001b[1;33m)\u001b[0m\u001b[1;33m\u001b[0m\u001b[0m\n\u001b[0;32m      5\u001b[0m     \u001b[1;32mfor\u001b[0m \u001b[0meach_check_out\u001b[0m \u001b[1;32min\u001b[0m \u001b[0mcheck_out_list\u001b[0m\u001b[1;33m:\u001b[0m\u001b[1;33m\u001b[0m\u001b[0m\n",
      "\u001b[1;31mFileNotFoundError\u001b[0m: [WinError 3] 系统找不到指定的路径。: 'D:/Program Files/通达信/T0002/export/'"
     ]
    }
   ],
   "source": [
    "if __name__ == \"__main__\":\n",
    "    list = os.listdir('D:/Program Files/通达信/T0002/export/')\n",
    "    [StockData(url='D:/Program Files/通达信/T0002/export/' + i).data_store() for i in list]\n",
    "    check_out_list = get_rank(All_stock_dict['Code'])\n",
    "    for each_check_out in check_out_list:\n",
    "        stock_name = get_stockName(each_check_out)\n",
    "        stock_code = each_check_out\n",
    "        print('今日自选股:{}({})'.format(stock_name, stock_code))\n",
    "    #获取综合择时信号\n",
    "    timing_signal = get_timing_signal('999999')\n",
    "    print('今日择时信号:{}'.format(timing_signal))\n",
    "    print('*' * 100)\n",
    "    #print('访问数据出错的股票:{}({})'.format(stock_problem_data['Name'],stock_problem_data['Code']))"
   ]
  },
  {
   "cell_type": "code",
   "execution_count": null,
   "metadata": {
    "collapsed": true
   },
   "outputs": [],
   "source": []
  },
  {
   "cell_type": "code",
   "execution_count": null,
   "metadata": {
    "collapsed": true
   },
   "outputs": [],
   "source": []
  },
  {
   "cell_type": "code",
   "execution_count": null,
   "metadata": {
    "collapsed": true
   },
   "outputs": [],
   "source": []
  }
 ],
 "metadata": {
  "kernelspec": {
   "display_name": "Python 3",
   "language": "python",
   "name": "python3"
  },
  "language_info": {
   "codemirror_mode": {
    "name": "ipython",
    "version": 3
   },
   "file_extension": ".py",
   "mimetype": "text/x-python",
   "name": "python",
   "nbconvert_exporter": "python",
   "pygments_lexer": "ipython3",
   "version": "3.5.4"
  }
 },
 "nbformat": 4,
 "nbformat_minor": 2
}
